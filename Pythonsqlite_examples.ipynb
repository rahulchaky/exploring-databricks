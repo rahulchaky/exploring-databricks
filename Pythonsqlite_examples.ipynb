{
  "nbformat": 4,
  "nbformat_minor": 0,
  "metadata": {
    "colab": {
      "provenance": []
    },
    "kernelspec": {
      "name": "python3",
      "display_name": "Python 3"
    },
    "language_info": {
      "name": "python"
    }
  },
  "cells": [
    {
      "cell_type": "code",
      "execution_count": null,
      "metadata": {
        "colab": {
          "base_uri": "https://localhost:8080/"
        },
        "id": "qU7XCBcjg-xS",
        "outputId": "f46f8b0b-3d79-44e0-bf12-6203dc94d33f"
      },
      "outputs": [
        {
          "output_type": "stream",
          "name": "stdout",
          "text": [
            "Looking in indexes: https://pypi.org/simple, https://us-python.pkg.dev/colab-wheels/public/simple/\n",
            "Collecting pysqlite\n",
            "  Using cached pysqlite-2.8.3.tar.gz (80 kB)\n",
            "  \u001b[1;31merror\u001b[0m: \u001b[1msubprocess-exited-with-error\u001b[0m\n",
            "  \n",
            "  \u001b[31m×\u001b[0m \u001b[32mpython setup.py egg_info\u001b[0m did not run successfully.\n",
            "  \u001b[31m│\u001b[0m exit code: \u001b[1;36m1\u001b[0m\n",
            "  \u001b[31m╰─>\u001b[0m See above for output.\n",
            "  \n",
            "  \u001b[1;35mnote\u001b[0m: This error originates from a subprocess, and is likely not a problem with pip.\n",
            "  Preparing metadata (setup.py) ... \u001b[?25l\u001b[?25herror\n",
            "\u001b[1;31merror\u001b[0m: \u001b[1mmetadata-generation-failed\u001b[0m\n",
            "\n",
            "\u001b[31m×\u001b[0m Encountered error while generating package metadata.\n",
            "\u001b[31m╰─>\u001b[0m See above for output.\n",
            "\n",
            "\u001b[1;35mnote\u001b[0m: This is an issue with the package mentioned above, not pip.\n",
            "\u001b[1;36mhint\u001b[0m: See above for details.\n"
          ]
        }
      ],
      "source": [
        "!pip install pysqlite\n"
      ]
    },
    {
      "cell_type": "code",
      "source": [
        "import sqlite3\n",
        "\n",
        "# Create a connection object\n",
        "connection = sqlite3.connect(\"example.db\")\n",
        "\n",
        "# Create a cursor object to interact with the database\n",
        "cursor = connection.cursor()\n",
        "\n",
        "# Create a table\n",
        "cursor.execute(\"CREATE TABLE IF NOT EXISTS users (id INTEGER PRIMARY KEY, name TEXT, age INTEGER)\")\n",
        "\n",
        "# Insert some data into the table\n",
        "cursor.execute(\"INSERT INTO users (name, age) VALUES (?, ?)\", (\"John\", 30))\n",
        "cursor.execute(\"INSERT INTO users (name, age) VALUES (?, ?)\", (\"Jane\", 25))\n",
        "cursor.execute(\"INSERT INTO users (name, age) VALUES (?, ?)\", (\"Bob\", 45))\n",
        "\n",
        "# Commit the changes to the database\n",
        "connection.commit()\n",
        "\n",
        "# Retrieve data from the table\n",
        "cursor.execute(\"SELECT * FROM users\")\n",
        "rows = cursor.fetchall()\n",
        "print(\"All users:\")\n",
        "for row in rows:\n",
        "    print(row)\n",
        "\n",
        "# Update data in the table\n",
        "cursor.execute(\"UPDATE users SET age = ? WHERE name = ?\", (31, \"John\"))\n",
        "connection.commit()\n",
        "\n",
        "# Retrieve updated data from the table\n",
        "cursor.execute(\"SELECT * FROM users\")\n",
        "rows = cursor.fetchall()\n",
        "print(\"All users after update:\")\n",
        "for row in rows:\n",
        "    print(row)\n",
        "\n",
        "# Delete data from the table\n",
        "cursor.execute(\"DELETE FROM users WHERE name = ?\", (\"Bob\",))\n",
        "connection.commit()\n",
        "\n",
        "# Retrieve data from the table after deletion\n",
        "cursor.execute(\"SELECT * FROM users\")\n",
        "rows = cursor.fetchall()\n",
        "print(\"All users after deletion:\")\n",
        "for row in rows:\n",
        "    print(row)\n",
        "\n",
        "# Close the connection to the database\n",
        "connection.close()\n"
      ],
      "metadata": {
        "colab": {
          "base_uri": "https://localhost:8080/"
        },
        "id": "3uvJ1X56io5G",
        "outputId": "26fe554a-ed7e-40ed-ccd1-1e0c4fea0b45"
      },
      "execution_count": 1,
      "outputs": [
        {
          "output_type": "stream",
          "name": "stdout",
          "text": [
            "All users:\n",
            "(1, 'John', 30)\n",
            "(2, 'Jane', 25)\n",
            "(3, 'Bob', 45)\n",
            "All users after update:\n",
            "(1, 'John', 31)\n",
            "(2, 'Jane', 25)\n",
            "(3, 'Bob', 45)\n",
            "All users after deletion:\n",
            "(1, 'John', 31)\n",
            "(2, 'Jane', 25)\n"
          ]
        }
      ]
    }
  ]
}